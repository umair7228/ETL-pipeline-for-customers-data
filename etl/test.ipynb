{
 "cells": [
  {
   "cell_type": "code",
   "execution_count": 3,
   "id": "b258d26f",
   "metadata": {},
   "outputs": [],
   "source": [
    "import pandas as pd\n",
    "import os\n",
    "import pandas as pd\n",
    "from datetime import datetime"
   ]
  },
  {
   "cell_type": "code",
   "execution_count": 33,
   "id": "8845ac0b",
   "metadata": {},
   "outputs": [
    {
     "data": {
      "text/html": [
       "<div>\n",
       "<style scoped>\n",
       "    .dataframe tbody tr th:only-of-type {\n",
       "        vertical-align: middle;\n",
       "    }\n",
       "\n",
       "    .dataframe tbody tr th {\n",
       "        vertical-align: top;\n",
       "    }\n",
       "\n",
       "    .dataframe thead th {\n",
       "        text-align: right;\n",
       "    }\n",
       "</style>\n",
       "<table border=\"1\" class=\"dataframe\">\n",
       "  <thead>\n",
       "    <tr style=\"text-align: right;\">\n",
       "      <th></th>\n",
       "      <th>name</th>\n",
       "      <th>gender</th>\n",
       "      <th>country</th>\n",
       "      <th>department</th>\n",
       "      <th>designation</th>\n",
       "      <th>email</th>\n",
       "      <th>signup_date</th>\n",
       "      <th>address</th>\n",
       "    </tr>\n",
       "  </thead>\n",
       "  <tbody>\n",
       "    <tr>\n",
       "      <th>0</th>\n",
       "      <td>Curtis White</td>\n",
       "      <td>Other</td>\n",
       "      <td>usa</td>\n",
       "      <td>Sales</td>\n",
       "      <td>Sales Executive</td>\n",
       "      <td>kathleenking@schmidt-graves.com</td>\n",
       "      <td>2024-02-29</td>\n",
       "      <td>6327 Melissa Junction, Lake Allisonland, MD 53273</td>\n",
       "    </tr>\n",
       "    <tr>\n",
       "      <th>1</th>\n",
       "      <td>Justin Coleman</td>\n",
       "      <td>Female</td>\n",
       "      <td>india</td>\n",
       "      <td>HR</td>\n",
       "      <td>HR Coordinator</td>\n",
       "      <td>murrayrachel@hotmail.com</td>\n",
       "      <td>2023-12-08</td>\n",
       "      <td>Unit 5232 Box 7928, DPO AP 23572</td>\n",
       "    </tr>\n",
       "    <tr>\n",
       "      <th>2</th>\n",
       "      <td>Alexander Wells</td>\n",
       "      <td>Female</td>\n",
       "      <td>usa</td>\n",
       "      <td>HR</td>\n",
       "      <td>Recruiter</td>\n",
       "      <td>zunigacrystal@gmail.com</td>\n",
       "      <td>2022-08-20</td>\n",
       "      <td>2863 Danielle Mills Suite 862, Shellyfort, DC ...</td>\n",
       "    </tr>\n",
       "    <tr>\n",
       "      <th>3</th>\n",
       "      <td>Linda Burgess</td>\n",
       "      <td>Female</td>\n",
       "      <td>uk</td>\n",
       "      <td>Finance</td>\n",
       "      <td>Financial Analyst</td>\n",
       "      <td>davisdouglas@gmail.com</td>\n",
       "      <td>2021-07-05</td>\n",
       "      <td>573 Wilson View, Jacobland, LA 01962</td>\n",
       "    </tr>\n",
       "    <tr>\n",
       "      <th>4</th>\n",
       "      <td>Amber Robinson</td>\n",
       "      <td>Other</td>\n",
       "      <td>uk</td>\n",
       "      <td>Sales</td>\n",
       "      <td>Sales Executive</td>\n",
       "      <td>lynn66@yahoo.com</td>\n",
       "      <td>2023-02-26</td>\n",
       "      <td>56734 Denise Inlet, Port Haileymouth, WV 93764</td>\n",
       "    </tr>\n",
       "  </tbody>\n",
       "</table>\n",
       "</div>"
      ],
      "text/plain": [
       "              name  gender country department        designation  \\\n",
       "0     Curtis White   Other     usa      Sales    Sales Executive   \n",
       "1   Justin Coleman  Female   india         HR     HR Coordinator   \n",
       "2  Alexander Wells  Female     usa         HR          Recruiter   \n",
       "3    Linda Burgess  Female      uk    Finance  Financial Analyst   \n",
       "4   Amber Robinson   Other      uk      Sales    Sales Executive   \n",
       "\n",
       "                             email signup_date  \\\n",
       "0  kathleenking@schmidt-graves.com  2024-02-29   \n",
       "1         murrayrachel@hotmail.com  2023-12-08   \n",
       "2          zunigacrystal@gmail.com  2022-08-20   \n",
       "3           davisdouglas@gmail.com  2021-07-05   \n",
       "4                 lynn66@yahoo.com  2023-02-26   \n",
       "\n",
       "                                             address  \n",
       "0  6327 Melissa Junction, Lake Allisonland, MD 53273  \n",
       "1                   Unit 5232 Box 7928, DPO AP 23572  \n",
       "2  2863 Danielle Mills Suite 862, Shellyfort, DC ...  \n",
       "3               573 Wilson View, Jacobland, LA 01962  \n",
       "4     56734 Denise Inlet, Port Haileymouth, WV 93764  "
      ]
     },
     "execution_count": 33,
     "metadata": {},
     "output_type": "execute_result"
    }
   ],
   "source": [
    "df = pd.read_excel(\"../raw-data/messy_customers_data.xlsx\")\n",
    "df.head()"
   ]
  },
  {
   "cell_type": "code",
   "execution_count": 34,
   "id": "ad722964",
   "metadata": {},
   "outputs": [
    {
     "data": {
      "text/plain": [
       "name                   object\n",
       "gender                 object\n",
       "country                object\n",
       "department             object\n",
       "designation            object\n",
       "email                  object\n",
       "signup_date    datetime64[ns]\n",
       "address                object\n",
       "dtype: object"
      ]
     },
     "execution_count": 34,
     "metadata": {},
     "output_type": "execute_result"
    }
   ],
   "source": [
    "df.dtypes"
   ]
  },
  {
   "cell_type": "code",
   "execution_count": 18,
   "id": "570ef6f1",
   "metadata": {},
   "outputs": [],
   "source": [
    "def clean_data(df):\n",
    "    df = df.dropna().drop_duplicates()\n",
    "    df['signup_date'] = pd.to_datetime(df['signup_date'], errors='coerce').dt.strftime('%Y-%m-%d')\n",
    "    \n",
    "    string_cols = ['name', 'gender', 'email', 'address', 'country', 'department', 'designation']\n",
    "    for col in string_cols:\n",
    "        df[col] = df[col].astype(str).str.strip().str.lower()\n",
    "        \n",
    "    df['country'] = df['country'].replace({\n",
    "        'united states': 'usa', 'us': 'usa', 'usa': 'usa',\n",
    "        'united kingdom': 'uk', 'england': 'uk', 'uk': 'uk',\n",
    "        'india': 'india'\n",
    "    })\n",
    "    \n",
    "    return df.head()\n",
    "\n",
    "# def save_by_country(df, output_dir='final_data'):\n",
    "#     os.makedirs(output_dir, exist_ok=True)\n",
    "#     for country in ['usa', 'uk', 'india']:\n",
    "#         country_df = df[df['country'] == country]\n",
    "#         output_path = os.path.join(output_dir, f'country_{country}.csv')\n",
    "#         country_df.to_csv(output_path, index=False)\n",
    "#         print(f\"Saved: {output_path}\")"
   ]
  },
  {
   "cell_type": "code",
   "execution_count": 19,
   "id": "53fe74d3",
   "metadata": {},
   "outputs": [
    {
     "data": {
      "text/html": [
       "<div>\n",
       "<style scoped>\n",
       "    .dataframe tbody tr th:only-of-type {\n",
       "        vertical-align: middle;\n",
       "    }\n",
       "\n",
       "    .dataframe tbody tr th {\n",
       "        vertical-align: top;\n",
       "    }\n",
       "\n",
       "    .dataframe thead th {\n",
       "        text-align: right;\n",
       "    }\n",
       "</style>\n",
       "<table border=\"1\" class=\"dataframe\">\n",
       "  <thead>\n",
       "    <tr style=\"text-align: right;\">\n",
       "      <th></th>\n",
       "      <th>name</th>\n",
       "      <th>gender</th>\n",
       "      <th>country</th>\n",
       "      <th>department</th>\n",
       "      <th>designation</th>\n",
       "      <th>email</th>\n",
       "      <th>signup_date</th>\n",
       "      <th>address</th>\n",
       "    </tr>\n",
       "  </thead>\n",
       "  <tbody>\n",
       "    <tr>\n",
       "      <th>0</th>\n",
       "      <td>curtis white</td>\n",
       "      <td>other</td>\n",
       "      <td>usa</td>\n",
       "      <td>sales</td>\n",
       "      <td>sales executive</td>\n",
       "      <td>kathleenking@schmidt-graves.com</td>\n",
       "      <td>2024-02-29</td>\n",
       "      <td>6327 melissa junction, lake allisonland, md 53273</td>\n",
       "    </tr>\n",
       "    <tr>\n",
       "      <th>1</th>\n",
       "      <td>justin coleman</td>\n",
       "      <td>female</td>\n",
       "      <td>india</td>\n",
       "      <td>hr</td>\n",
       "      <td>hr coordinator</td>\n",
       "      <td>murrayrachel@hotmail.com</td>\n",
       "      <td>2023-12-08</td>\n",
       "      <td>unit 5232 box 7928, dpo ap 23572</td>\n",
       "    </tr>\n",
       "    <tr>\n",
       "      <th>2</th>\n",
       "      <td>alexander wells</td>\n",
       "      <td>female</td>\n",
       "      <td>usa</td>\n",
       "      <td>hr</td>\n",
       "      <td>recruiter</td>\n",
       "      <td>zunigacrystal@gmail.com</td>\n",
       "      <td>2022-08-20</td>\n",
       "      <td>2863 danielle mills suite 862, shellyfort, dc ...</td>\n",
       "    </tr>\n",
       "    <tr>\n",
       "      <th>3</th>\n",
       "      <td>linda burgess</td>\n",
       "      <td>female</td>\n",
       "      <td>uk</td>\n",
       "      <td>finance</td>\n",
       "      <td>financial analyst</td>\n",
       "      <td>davisdouglas@gmail.com</td>\n",
       "      <td>2021-07-05</td>\n",
       "      <td>573 wilson view, jacobland, la 01962</td>\n",
       "    </tr>\n",
       "    <tr>\n",
       "      <th>4</th>\n",
       "      <td>amber robinson</td>\n",
       "      <td>other</td>\n",
       "      <td>uk</td>\n",
       "      <td>sales</td>\n",
       "      <td>sales executive</td>\n",
       "      <td>lynn66@yahoo.com</td>\n",
       "      <td>2023-02-26</td>\n",
       "      <td>56734 denise inlet, port haileymouth, wv 93764</td>\n",
       "    </tr>\n",
       "  </tbody>\n",
       "</table>\n",
       "</div>"
      ],
      "text/plain": [
       "              name  gender country department        designation  \\\n",
       "0     curtis white   other     usa      sales    sales executive   \n",
       "1   justin coleman  female   india         hr     hr coordinator   \n",
       "2  alexander wells  female     usa         hr          recruiter   \n",
       "3    linda burgess  female      uk    finance  financial analyst   \n",
       "4   amber robinson   other      uk      sales    sales executive   \n",
       "\n",
       "                             email signup_date  \\\n",
       "0  kathleenking@schmidt-graves.com  2024-02-29   \n",
       "1         murrayrachel@hotmail.com  2023-12-08   \n",
       "2          zunigacrystal@gmail.com  2022-08-20   \n",
       "3           davisdouglas@gmail.com  2021-07-05   \n",
       "4                 lynn66@yahoo.com  2023-02-26   \n",
       "\n",
       "                                             address  \n",
       "0  6327 melissa junction, lake allisonland, md 53273  \n",
       "1                   unit 5232 box 7928, dpo ap 23572  \n",
       "2  2863 danielle mills suite 862, shellyfort, dc ...  \n",
       "3               573 wilson view, jacobland, la 01962  \n",
       "4     56734 denise inlet, port haileymouth, wv 93764  "
      ]
     },
     "execution_count": 19,
     "metadata": {},
     "output_type": "execute_result"
    }
   ],
   "source": [
    "clean_data(df)"
   ]
  },
  {
   "cell_type": "code",
   "execution_count": 9,
   "id": "03238568",
   "metadata": {},
   "outputs": [
    {
     "data": {
      "text/plain": [
       "name           11000\n",
       "gender         11000\n",
       "country        11000\n",
       "department     11000\n",
       "designation    11000\n",
       "email          10909\n",
       "signup_date    11000\n",
       "address        11000\n",
       "dtype: int64"
      ]
     },
     "execution_count": 9,
     "metadata": {},
     "output_type": "execute_result"
    }
   ],
   "source": [
    "df.count()"
   ]
  },
  {
   "cell_type": "code",
   "execution_count": 22,
   "id": "55a4e3c9",
   "metadata": {},
   "outputs": [
    {
     "data": {
      "text/plain": [
       "name            0\n",
       "gender          0\n",
       "country         0\n",
       "department      0\n",
       "designation     0\n",
       "email          91\n",
       "signup_date     0\n",
       "address         0\n",
       "dtype: int64"
      ]
     },
     "execution_count": 22,
     "metadata": {},
     "output_type": "execute_result"
    }
   ],
   "source": [
    "df.dropna()\n",
    "df.isnull().sum()"
   ]
  },
  {
   "cell_type": "code",
   "execution_count": 37,
   "id": "5ca3d656",
   "metadata": {},
   "outputs": [
    {
     "data": {
      "text/html": [
       "<div>\n",
       "<style scoped>\n",
       "    .dataframe tbody tr th:only-of-type {\n",
       "        vertical-align: middle;\n",
       "    }\n",
       "\n",
       "    .dataframe tbody tr th {\n",
       "        vertical-align: top;\n",
       "    }\n",
       "\n",
       "    .dataframe thead th {\n",
       "        text-align: right;\n",
       "    }\n",
       "</style>\n",
       "<table border=\"1\" class=\"dataframe\">\n",
       "  <thead>\n",
       "    <tr style=\"text-align: right;\">\n",
       "      <th></th>\n",
       "      <th>name</th>\n",
       "      <th>gender</th>\n",
       "      <th>country</th>\n",
       "      <th>department</th>\n",
       "      <th>designation</th>\n",
       "      <th>email</th>\n",
       "      <th>signup_date</th>\n",
       "      <th>address</th>\n",
       "    </tr>\n",
       "  </thead>\n",
       "  <tbody>\n",
       "    <tr>\n",
       "      <th>0</th>\n",
       "      <td>justin coleman</td>\n",
       "      <td>female</td>\n",
       "      <td>india</td>\n",
       "      <td>hr</td>\n",
       "      <td>hr coordinator</td>\n",
       "      <td>murrayrachel@hotmail.com</td>\n",
       "      <td>2023-12-08</td>\n",
       "      <td>unit 5232 box 7928, dpo ap 23572</td>\n",
       "    </tr>\n",
       "    <tr>\n",
       "      <th>1</th>\n",
       "      <td>karen jackson</td>\n",
       "      <td>male</td>\n",
       "      <td>india</td>\n",
       "      <td>hr</td>\n",
       "      <td>hr manager</td>\n",
       "      <td>wendymills@rivera.com</td>\n",
       "      <td>2022-11-09</td>\n",
       "      <td>840 gutierrez expressway, new samantha, az 06760</td>\n",
       "    </tr>\n",
       "    <tr>\n",
       "      <th>2</th>\n",
       "      <td>david campos</td>\n",
       "      <td>male</td>\n",
       "      <td>india</td>\n",
       "      <td>sales</td>\n",
       "      <td>sales analyst</td>\n",
       "      <td>xbrown@hall-lopez.info</td>\n",
       "      <td>2021-06-17</td>\n",
       "      <td>83825 julia crescent apt. 228, north katherine...</td>\n",
       "    </tr>\n",
       "    <tr>\n",
       "      <th>3</th>\n",
       "      <td>lee schmitt</td>\n",
       "      <td>female</td>\n",
       "      <td>india</td>\n",
       "      <td>hr</td>\n",
       "      <td>recruiter</td>\n",
       "      <td>kerri56@parker.com</td>\n",
       "      <td>2021-03-31</td>\n",
       "      <td>61397 nancy estates, port scott, md 77741</td>\n",
       "    </tr>\n",
       "    <tr>\n",
       "      <th>4</th>\n",
       "      <td>dakota owen</td>\n",
       "      <td>male</td>\n",
       "      <td>india</td>\n",
       "      <td>sales</td>\n",
       "      <td>sales analyst</td>\n",
       "      <td>projas@randall.com</td>\n",
       "      <td>2024-05-21</td>\n",
       "      <td>38366 john islands, tylerville, sc 04380</td>\n",
       "    </tr>\n",
       "  </tbody>\n",
       "</table>\n",
       "</div>"
      ],
      "text/plain": [
       "             name  gender country department     designation  \\\n",
       "0  justin coleman  female   india         hr  hr coordinator   \n",
       "1   karen jackson    male   india         hr      hr manager   \n",
       "2    david campos    male   india      sales   sales analyst   \n",
       "3     lee schmitt  female   india         hr       recruiter   \n",
       "4     dakota owen    male   india      sales   sales analyst   \n",
       "\n",
       "                      email signup_date  \\\n",
       "0  murrayrachel@hotmail.com  2023-12-08   \n",
       "1     wendymills@rivera.com  2022-11-09   \n",
       "2    xbrown@hall-lopez.info  2021-06-17   \n",
       "3        kerri56@parker.com  2021-03-31   \n",
       "4        projas@randall.com  2024-05-21   \n",
       "\n",
       "                                             address  \n",
       "0                   unit 5232 box 7928, dpo ap 23572  \n",
       "1   840 gutierrez expressway, new samantha, az 06760  \n",
       "2  83825 julia crescent apt. 228, north katherine...  \n",
       "3          61397 nancy estates, port scott, md 77741  \n",
       "4           38366 john islands, tylerville, sc 04380  "
      ]
     },
     "execution_count": 37,
     "metadata": {},
     "output_type": "execute_result"
    }
   ],
   "source": [
    "df1 = pd.read_csv(\"../final_data/country_india.csv\")\n",
    "df1.head()"
   ]
  },
  {
   "cell_type": "code",
   "execution_count": 38,
   "id": "5d9e8073",
   "metadata": {},
   "outputs": [
    {
     "data": {
      "text/plain": [
       "name           object\n",
       "gender         object\n",
       "country        object\n",
       "department     object\n",
       "designation    object\n",
       "email          object\n",
       "signup_date    object\n",
       "address        object\n",
       "dtype: object"
      ]
     },
     "execution_count": 38,
     "metadata": {},
     "output_type": "execute_result"
    }
   ],
   "source": [
    "df1.dtypes"
   ]
  },
  {
   "cell_type": "code",
   "execution_count": 43,
   "id": "ac30e218",
   "metadata": {},
   "outputs": [
    {
     "name": "stdout",
     "output_type": "stream",
     "text": [
      "name            True\n",
      "gender         False\n",
      "country        False\n",
      "department     False\n",
      "designation    False\n",
      "email          False\n",
      "address        False\n",
      "dtype: bool\n"
     ]
    }
   ],
   "source": [
    "whitespace_mask = df.select_dtypes(include=['object', 'string']).apply(\n",
    "    lambda col: col.astype(str) != col.astype(str).str.strip()\n",
    ")\n",
    "\n",
    "# Show where whitespace exists\n",
    "print(whitespace_mask.any())"
   ]
  },
  {
   "cell_type": "code",
   "execution_count": 44,
   "id": "8f6fd6e0",
   "metadata": {},
   "outputs": [
    {
     "name": "stdout",
     "output_type": "stream",
     "text": [
      "\n",
      "Whitespace found in column: name\n",
      "7             TONYA BUTLER \n",
      "10             LEE SCHMITT \n",
      "25            ANDREA KELLY \n",
      "44              DAVID YORK \n",
      "80           RACHEL BECKER \n",
      "                ...        \n",
      "10960         ANTHONY WARD \n",
      "10973        RONALD JORDAN \n",
      "10976           IAN MURPHY \n",
      "10977        JOSEPH TURNER \n",
      "10998     JONATHON RAMIREZ \n",
      "Name: name, Length: 1109, dtype: object\n"
     ]
    }
   ],
   "source": [
    "for col in whitespace_mask.columns:\n",
    "    if whitespace_mask[col].any():\n",
    "        print(f\"\\nWhitespace found in column: {col}\")\n",
    "        print(df.loc[whitespace_mask[col], col])"
   ]
  },
  {
   "cell_type": "code",
   "execution_count": 46,
   "id": "8de7f68d",
   "metadata": {},
   "outputs": [
    {
     "name": "stdout",
     "output_type": "stream",
     "text": [
      "0       False\n",
      "1       False\n",
      "2       False\n",
      "3       False\n",
      "4       False\n",
      "        ...  \n",
      "3388    False\n",
      "3389    False\n",
      "3390    False\n",
      "3391    False\n",
      "3392    False\n",
      "Name: country, Length: 3393, dtype: bool\n"
     ]
    }
   ],
   "source": [
    "has_upper = df1['country'].str.contains(r'[A-Z]')\n",
    "print(has_upper)"
   ]
  },
  {
   "cell_type": "code",
   "execution_count": null,
   "id": "8e9f3402",
   "metadata": {},
   "outputs": [],
   "source": [
    "\n"
   ]
  }
 ],
 "metadata": {
  "kernelspec": {
   "display_name": "Python 3",
   "language": "python",
   "name": "python3"
  },
  "language_info": {
   "codemirror_mode": {
    "name": "ipython",
    "version": 3
   },
   "file_extension": ".py",
   "mimetype": "text/x-python",
   "name": "python",
   "nbconvert_exporter": "python",
   "pygments_lexer": "ipython3",
   "version": "3.12.5"
  }
 },
 "nbformat": 4,
 "nbformat_minor": 5
}
